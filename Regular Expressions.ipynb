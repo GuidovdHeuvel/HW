{
 "cells": [
  {
   "cell_type": "markdown",
   "metadata": {},
   "source": [
    "Click <a href='https://www.dataquest.io/blog/web-scraping-tutorial-python/'>here</a> to learn about Regular Expressions (RegEx) using Python."
   ]
  },
  {
   "cell_type": "code",
   "execution_count": 1,
   "metadata": {},
   "outputs": [
    {
     "ename": "SyntaxError",
     "evalue": "invalid syntax (<ipython-input-1-70bfe20273b0>, line 5)",
     "output_type": "error",
     "traceback": [
      "\u001b[1;36m  File \u001b[1;32m\"<ipython-input-1-70bfe20273b0>\"\u001b[1;36m, line \u001b[1;32m5\u001b[0m\n\u001b[1;33m    a, X, 9, < -- ordinary characters just match themselves exactly.\u001b[0m\n\u001b[1;37m             ^\u001b[0m\n\u001b[1;31mSyntaxError\u001b[0m\u001b[1;31m:\u001b[0m invalid syntax\n"
     ]
    }
   ],
   "source": [
    "########################\n",
    "# DO NOT RUN THIS CELL #\n",
    "########################\n",
    "\n",
    "a, X, 9, < -- ordinary characters just match themselves exactly.\n",
    ". (a period) -- matches any single character except newline '\\n'\n",
    "\\w -- matches a \"word\" character: a letter or digit or underbar [a-zA-Z0-9_].\n",
    "\\W -- matches any non-word character.\n",
    "\\b -- matches word boundary (in between a word character and a non word character)\n",
    "\\s -- matches a single whitespace character -- space, newline, return, tab\n",
    "\\S -- matches any non-whitespace character.\n",
    "\\t, \\n, \\r -- tab, newline, return\n",
    "\\d -- matches any numeric digit [0-9]\n",
    "\\D matches any non-numeric character.\n",
    "^ -- matches the beginning of the string, or specify omition of certain characters\n",
    "$ -- matches the end of the string\n",
    "\\ -- escapes special character.\n",
    "(x|y|z) matches exactly one of x, y or z.\n",
    "(x) in general is a remembered group. We can get the value of what matched by using the groups() method of the object returned by re.search.\n",
    "x? matches an optional x character (in other words, it matches an x zero or one times).\n",
    "x* matches x zero or more times.\n",
    "x+ matches x one or more times.\n",
    "x{m,n} matches an x character at least m times, but not more than n times.\n",
    "?: matches an expression but do not capture it. Non capturing group.\n",
    "?= matches a suffix but exclude it from capture. Positive lookahead.\n",
    "a(?=b) will match the \"a\" in \"ab\", but not the \"a\" in \"ac\"\n",
    "In other words, a(?=b) matches the \"a\" which is followed by the string 'b', without consuming what follows the a.\n",
    "?! matches if suffix is absent. Negative look ahead.\n",
    "a(?!b) will match the \"a\" in \"ac\", but not the \"a\" in \"ab\"\n",
    "?<= positive look behind\n",
    "[] matches for groupings of consecutive characters\n",
    "?<! negative look behind\n",
    "\n",
    "########################\n",
    "# DO NOT RUN THIS CELL #\n",
    "########################"
   ]
  },
  {
   "cell_type": "markdown",
   "metadata": {},
   "source": [
    "What are word boundaries?\n",
    "--------------------------------------------------\n",
    "Before the first character in the string, if the first character is a word character.<br>\n",
    "After the last character in the string, if the last character is a word character.<br>\n",
    "Between two characters in the string, where one is a word character and the other is not a word character<br>"
   ]
  },
  {
   "cell_type": "code",
   "execution_count": 2,
   "metadata": {},
   "outputs": [],
   "source": [
    "import re\n",
    "# Help(open)\n",
    "# encoding = whichever encoding you need for the file you're using.\n",
    "file = open('./names.txt', encoding='utf-8')\n",
    "# read file\n",
    "data = file.read()\n",
    "# always close the file\n",
    "file.close()"
   ]
  },
  {
   "cell_type": "code",
   "execution_count": 2,
   "metadata": {},
   "outputs": [
    {
     "data": {
      "text/plain": [
       "'Hawkins, Derek  derek@codingtemple.com  (555) 555-5555  Teacher, Coding Temple  @derekhawkins\\nMilliken, Connor    connor@codingtemple.com (555) 555-5554  Teacher, Coding Temple\\nJohnson, Joe    joejohnson@codingtemple.com     Carter, Joel\\nÖsterberg, Sven-Erik   governor@norrbotten.co.se       Governor, Norrbotten    @sverik\\n, Tim   tim@killerrabbit.com        Enchanter, Killer Rabbit Cave\\nButz, Ryan  ryanb@codingtemple.com  (555) 555-5543  CEO, Coding Temple  @ryanbutz\\nDoctor, The doctor+companion@tardis.co.uk       Time Lord, Gallifrey\\nExampleson, Example me@example.com  555-555-5552    Example, Example Co.    @example\\nObama, Barack   president.44@us.gov 555 555-5551    President, United States of America @potus44\\nPatel, Ripal    ripalp@codingtemple.com (555) 555-5553  Teacher, Coding Temple  @ripalp\\nVader, Darth    darth-vader@empire.gov  (555) 555-4444  Sith Lord, Galactic Empire  @darthvader\\nFernández de la Vega Sanz, María Teresa   mtfvs@spain.gov     First Deputy Prime Minister, Spanish Govt.\\n'"
      ]
     },
     "execution_count": 2,
     "metadata": {},
     "output_type": "execute_result"
    }
   ],
   "source": [
    "data"
   ]
  },
  {
   "cell_type": "code",
   "execution_count": null,
   "metadata": {},
   "outputs": [],
   "source": [
    "len(data)"
   ]
  },
  {
   "cell_type": "code",
   "execution_count": 32,
   "metadata": {
    "scrolled": true
   },
   "outputs": [
    {
     "data": {
      "text/plain": [
       "<re.Match object; span=(0, 7), match='Hawkins'>"
      ]
     },
     "execution_count": 32,
     "metadata": {},
     "output_type": "execute_result"
    }
   ],
   "source": [
    "# .match() - Checks for specific strings starting from the beginning of a string\n",
    "re.match(r'Hawkins', data)"
   ]
  },
  {
   "cell_type": "code",
   "execution_count": 28,
   "metadata": {},
   "outputs": [],
   "source": [
    "re.match(r'Connor', data)"
   ]
  },
  {
   "cell_type": "code",
   "execution_count": 60,
   "metadata": {
    "scrolled": false
   },
   "outputs": [
    {
     "data": {
      "text/plain": [
       "<re.Match object; span=(391, 395), match='Butz'>"
      ]
     },
     "execution_count": 60,
     "metadata": {},
     "output_type": "execute_result"
    }
   ],
   "source": [
    "re.search(r'Butz', data)"
   ]
  },
  {
   "cell_type": "code",
   "execution_count": 63,
   "metadata": {},
   "outputs": [
    {
     "data": {
      "text/plain": [
       "'Butz, Ryan'"
      ]
     },
     "execution_count": 63,
     "metadata": {},
     "output_type": "execute_result"
    }
   ],
   "source": [
    "data[0:14]\n",
    "data[391:401]"
   ]
  },
  {
   "cell_type": "code",
   "execution_count": null,
   "metadata": {},
   "outputs": [],
   "source": []
  },
  {
   "cell_type": "code",
   "execution_count": 50,
   "metadata": {},
   "outputs": [
    {
     "data": {
      "text/plain": [
       "<re.Match object; span=(0, 14), match='Hawkins, Derek'>"
      ]
     },
     "execution_count": 50,
     "metadata": {},
     "output_type": "execute_result"
    }
   ],
   "source": [
    "re.search(r'\\w\\w\\w\\w\\w\\w\\w, \\w\\w\\w\\w\\w', data)"
   ]
  },
  {
   "cell_type": "code",
   "execution_count": null,
   "metadata": {},
   "outputs": [],
   "source": [
    "# Regular Expressions don't automatically recognize ALL special characters\n",
    "# Use the escape character to use it.\n",
    "re.search(r'\\(555\\) 555-5555', data)"
   ]
  },
  {
   "cell_type": "code",
   "execution_count": null,
   "metadata": {},
   "outputs": [],
   "source": [
    "# .search() - Looks for FIRST matching string anywhere in the searchable text string\n"
   ]
  },
  {
   "cell_type": "markdown",
   "metadata": {},
   "source": [
    "<strong>Exercise 1</strong>:<br>\n",
    "Write a function that checks for n number of consecutive digits"
   ]
  },
  {
   "cell_type": "code",
   "execution_count": null,
   "metadata": {},
   "outputs": [],
   "source": [
    "re.search(r'\\d\\d\\d\\d', data)"
   ]
  },
  {
   "cell_type": "code",
   "execution_count": null,
   "metadata": {},
   "outputs": [],
   "source": [
    "def find_digits(n, searchable_text):\n",
    "    return re.search(r'\\d' * n, searchable_text)\n",
    "\n",
    "find_digits(3, data)"
   ]
  },
  {
   "cell_type": "code",
   "execution_count": null,
   "metadata": {},
   "outputs": [],
   "source": [
    "# find(4, data) => <re.Match object; span=(XX, XX), match='5555'>"
   ]
  },
  {
   "cell_type": "code",
   "execution_count": null,
   "metadata": {
    "scrolled": true
   },
   "outputs": [],
   "source": [
    "phone_number = \"(312) 213-1234\"\n",
    "\n",
    "re.search(r'\\(\\d{3}\\) \\d{3}-\\d{4}', phone_number)\n",
    "re.search(r'\\(\\d{3}\\) \\d{3}-\\d{4}', data)\n"
   ]
  },
  {
   "cell_type": "code",
   "execution_count": null,
   "metadata": {},
   "outputs": [],
   "source": [
    "re.findall(r'\\(\\d{3}\\) \\d{3}-\\d{4}', data)"
   ]
  },
  {
   "cell_type": "code",
   "execution_count": null,
   "metadata": {
    "scrolled": true
   },
   "outputs": [],
   "source": [
    "# .findall() - Looks for matching string anywhere in the searchable text string and stores each instance into a list\n"
   ]
  },
  {
   "cell_type": "code",
   "execution_count": null,
   "metadata": {
    "scrolled": true
   },
   "outputs": [],
   "source": [
    "re.findall(r'\\d{3}-\\d{4}', data)"
   ]
  },
  {
   "cell_type": "code",
   "execution_count": null,
   "metadata": {},
   "outputs": [],
   "source": [
    "re.findall(r'\\(?\\d{3}\\)?-?\\s?\\d{3}-\\d{4}', data)"
   ]
  },
  {
   "cell_type": "code",
   "execution_count": null,
   "metadata": {},
   "outputs": [],
   "source": [
    "names = \"Hawkins, Derek Milliken, Connor Patel, Ripal Giralamo, Frank\"\n",
    "\n",
    "for i in re.findall(r'\\w+, \\w+', names):\n",
    "    name = i.split(', ')\n",
    "    print(f\"Hello, {name[1]} {name[0]}!\")"
   ]
  },
  {
   "cell_type": "code",
   "execution_count": null,
   "metadata": {
    "scrolled": false
   },
   "outputs": [],
   "source": [
    "email = \"bat+manyon12345@stuff.com\"\n",
    "\n",
    "re.findall(r'[\\w\\d.!#$%&\\'*+-/=?^_`{|}~]+@[-.\\w\\d]+', data)"
   ]
  },
  {
   "cell_type": "code",
   "execution_count": 24,
   "metadata": {},
   "outputs": [
    {
     "data": {
      "text/plain": [
       "['derek@codingtemple.com',\n",
       " 'connor@codingtemple.com',\n",
       " 'joejohnson@codingtemple.com',\n",
       " 'governor@norrbotten.co.se',\n",
       " 'tim@killerrabbit.com',\n",
       " 'ryanb@codingtemple.com',\n",
       " 'doctor+companion@tardis.co.uk',\n",
       " 'me@example.com',\n",
       " 'president.44@us.gov',\n",
       " 'ripalp@codingtemple.com',\n",
       " 'darth-vader@empire.gov',\n",
       " 'mtfvs@spain.gov']"
      ]
     },
     "execution_count": 24,
     "metadata": {},
     "output_type": "execute_result"
    }
   ],
   "source": [
    "email = \"bat+manyon12345@stuff.co.uk\"\n",
    "re.findall(r\"[\\w\\d.!#$%&\\'*+-/=?^_`{|}~]+@[-.\\w\\d]+\", data)"
   ]
  },
  {
   "cell_type": "code",
   "execution_count": null,
   "metadata": {},
   "outputs": [],
   "source": [
    "# re.VERBOSE/re.X - Allows multiline regular expressions\n",
    "# re.IGNORECASE/re.I - Ignores casing\n"
   ]
  },
  {
   "cell_type": "code",
   "execution_count": null,
   "metadata": {},
   "outputs": [],
   "source": [
    "re.findall(r'''\n",
    "    @[-.\\w\\d]+\n",
    "    [^gov\\t\\n]\n",
    "''', data, re.X|re.I)"
   ]
  },
  {
   "cell_type": "code",
   "execution_count": null,
   "metadata": {
    "scrolled": true
   },
   "outputs": [],
   "source": [
    "re.findall(r'''\n",
    "    @[-.\\w\\d]+\n",
    "    [^gov]\n",
    "''', data, re.X|re.I)"
   ]
  },
  {
   "cell_type": "code",
   "execution_count": null,
   "metadata": {},
   "outputs": [],
   "source": [
    "# [\n",
    "#     (First and last name,\n",
    "#      email, \n",
    "#      phone,\n",
    "#      title,\n",
    "#      Twitter handle)\n",
    "# ]\n"
   ]
  },
  {
   "cell_type": "code",
   "execution_count": 9,
   "metadata": {},
   "outputs": [],
   "source": [
    "information = \"\"\"\n",
    "Patel, Ripal : ripalp@codingtemple.com : (555) 555-5555\n",
    "Carter, Joel : joelc@codingtemple.com : 555 555-5555\n",
    "Giraloma, Frank : frankg@codingtemple.com : 555-555-5555\n",
    "\"\"\""
   ]
  },
  {
   "cell_type": "code",
   "execution_count": null,
   "metadata": {},
   "outputs": [],
   "source": [
    "re.findall(r'''\n",
    "    [\\w]+, # last name\n",
    "    \\s     # optional space \n",
    "    [\\w ]+ # word characters/spaces\n",
    "    [^: ]  # omit everything after the colon\n",
    "''', information, re.X)"
   ]
  },
  {
   "cell_type": "code",
   "execution_count": null,
   "metadata": {},
   "outputs": [],
   "source": [
    "info = re.findall(r'''\n",
    "    ([\\w]+,\\s[\\w ]+)                              # last name, first name\n",
    "    (\\s:\\s[\\w\\d.!#$%&\\'*+-/=?^_`{|}~]+@[-.\\w\\d]+) # email\n",
    "    (\\s:\\s\\(?\\d{3}\\)?-?\\s?\\d{3}-\\d{4})            # phone  \n",
    "''', information, re.X)"
   ]
  },
  {
   "cell_type": "code",
   "execution_count": null,
   "metadata": {},
   "outputs": [],
   "source": [
    "[i for i in info]"
   ]
  },
  {
   "cell_type": "code",
   "execution_count": null,
   "metadata": {},
   "outputs": [],
   "source": [
    "info = re.compile(r'''\n",
    "    (?P<name>[\\w]+,\\s[\\w ]+)                              # last name, first name\n",
    "    (?P<email>\\s:\\s[\\w\\d.!#$%&\\'*+-/=?^_`{|}~]+@[-.\\w\\d]+) # email\n",
    "    (?P<phone>\\s:\\s\\(?\\d{3}\\)?-?\\s?\\d{3}-\\d{4})            # phone  \n",
    "''', re.X)\n"
   ]
  },
  {
   "cell_type": "code",
   "execution_count": null,
   "metadata": {
    "scrolled": true
   },
   "outputs": [],
   "source": [
    "for i in info.finditer(information):\n",
    "    print(f\"Name: {i.group('name')}\\nEmail: {i.group('email')[3:]}\\nPhone: {i.group('phone')[3:]}\\n\")\n",
    "    "
   ]
  },
  {
   "cell_type": "markdown",
   "metadata": {},
   "source": [
    "##### In-class exercise 1: \n",
    "\n",
    "Use a regular expression to find every number in the given string"
   ]
  },
  {
   "cell_type": "code",
   "execution_count": 3,
   "metadata": {},
   "outputs": [
    {
     "data": {
      "text/plain": [
       "['(555) 555-5555',\n",
       " '(555) 555-5554',\n",
       " '(555) 555-5543',\n",
       " '555-555-5552',\n",
       " '555 555-5551',\n",
       " '(555) 555-5553',\n",
       " '(555) 555-4444']"
      ]
     },
     "execution_count": 3,
     "metadata": {},
     "output_type": "execute_result"
    }
   ],
   "source": [
    "re.findall(r'\\(?\\d{3}\\)?-?\\s?\\d{3}-\\d{4}', data)"
   ]
  },
  {
   "cell_type": "markdown",
   "metadata": {},
   "source": [
    "##### In-class Exercise 2:\n",
    "\n",
    "Write a function using regular expressions to find the domain name in the given email addresses (and return None for the invalid email addresses)<br><b>HINT: Use '|' for either or</b>"
   ]
  },
  {
   "cell_type": "code",
   "execution_count": 4,
   "metadata": {
    "scrolled": true
   },
   "outputs": [
    {
     "name": "stdout",
     "output_type": "stream",
     "text": [
      "<re.Match object; span=(7, 27), match='@codingtemple.orgcom'>\n",
      "<re.Match object; span=(14, 24), match='@gmail.com'>\n",
      "<re.Match object; span=(10, 19), match='@aol..com'>\n",
      "<re.Match object; span=(16, 23), match='@g6.org'>\n",
      "<re.Match object; span=(0, 17), match='@codingtemple.com'>\n"
     ]
    }
   ],
   "source": [
    "my_emails = [\"jordanw@codingtemple.orgcom\", \"pocohontas1776@gmail.com\", \"helloworld@aol..com\", \"yourfavoriteband@g6.org\", \"@codingtemple.com\"]\n",
    "for email in my_emails:\n",
    "    print(re.search(r'@[.\\w\\s]+', email))"
   ]
  },
  {
   "cell_type": "code",
   "execution_count": 14,
   "metadata": {
    "scrolled": true
   },
   "outputs": [
    {
     "data": {
      "text/plain": [
       "['@codingtemple.com',\n",
       " '@derekhawkins',\n",
       " '@codingtemple.com',\n",
       " '@codingtemple.com',\n",
       " '@norrbotten.co.se',\n",
       " '@sverik',\n",
       " '@killerrabbit.com',\n",
       " '@codingtemple.com',\n",
       " '@ryanbutz',\n",
       " '@tardis.co.uk',\n",
       " '@example.com',\n",
       " '@example',\n",
       " '@us.gov',\n",
       " '@potus44',\n",
       " '@codingtemple.com',\n",
       " '@ripalp',\n",
       " '@empire.gov',\n",
       " '@darthvader',\n",
       " '@spain.gov']"
      ]
     },
     "execution_count": 14,
     "metadata": {},
     "output_type": "execute_result"
    }
   ],
   "source": [
    "re.findall(r'''\n",
    "    @[-.\\w\\d]+\n",
    "''', data, re.X|re.I)"
   ]
  },
  {
   "cell_type": "code",
   "execution_count": 7,
   "metadata": {},
   "outputs": [
    {
     "data": {
      "text/plain": [
       "'Hawkins, Derek  derek@codingtemple.com  (555) 555-5555  Teacher, Coding Temple  @derekhawkins\\nMilliken, Connor    connor@codingtemple.com (555) 555-5554  Teacher, Coding Temple\\nJohnson, Joe    joejohnson@codingtemple.com     Carter, Joel\\nÖsterberg, Sven-Erik   governor@norrbotten.co.se       Governor, Norrbotten    @sverik\\n, Tim   tim@killerrabbit.com        Enchanter, Killer Rabbit Cave\\nButz, Ryan  ryanb@codingtemple.com  (555) 555-5543  CEO, Coding Temple  @ryanbutz\\nDoctor, The doctor+companion@tardis.co.uk       Time Lord, Gallifrey\\nExampleson, Example me@example.com  555-555-5552    Example, Example Co.    @example\\nObama, Barack   president.44@us.gov 555 555-5551    President, United States of America @potus44\\nPatel, Ripal    ripalp@codingtemple.com (555) 555-5553  Teacher, Coding Temple  @ripalp\\nVader, Darth    darth-vader@empire.gov  (555) 555-4444  Sith Lord, Galactic Empire  @darthvader\\nFernández de la Vega Sanz, María Teresa   mtfvs@spain.gov     First Deputy Prime Minister, Spanish Govt.\\n'"
      ]
     },
     "execution_count": 7,
     "metadata": {},
     "output_type": "execute_result"
    }
   ],
   "source": [
    "data"
   ]
  },
  {
   "cell_type": "code",
   "execution_count": 21,
   "metadata": {},
   "outputs": [],
   "source": [
    "info = re.compile(r'''\n",
    "    (?P<name>[\\w]+,\\s[\\w]+)\n",
    "    (?P<email>\\s:\\s[\\w\\d.!#$%&\\'*+-/=?^_{\\}~]+@[-.\\w\\d]+'])\n",
    "    (?P<phone>\\s:\\s\\(?\\d{3}\\)?-?\\s?\\d{3}-\\d{4})\n",
    "''', re.X)"
   ]
  },
  {
   "cell_type": "code",
   "execution_count": 13,
   "metadata": {},
   "outputs": [],
   "source": [
    "for i in info.finditer(information):\n",
    "    print(f\"Name: {i.group('name')}\\nEmail: {i.group('email')[3:]}\\nPhone: {i.group('phone')[3:]}\\n\")"
   ]
  },
  {
   "cell_type": "markdown",
   "metadata": {},
   "source": [
    "### In-Class Exercise #3 <br>\n",
    "<p>Print each persons name and twitter handle, using groups, should look like:</p>\n",
    "<p>==============<br>\n",
    "   Full Name / Twitter<br>\n",
    "   ==============</p>\n",
    "<p>Derek Hawkins / @derekhawkins<br>\n",
    "Norrbotten Governor / @sverik<br>\n",
    "Ryan Butz / @ryanbutz</p>\n",
    "<p>etc.</p>"
   ]
  },
  {
   "cell_type": "code",
   "execution_count": 67,
   "metadata": {
    "scrolled": true
   },
   "outputs": [
    {
     "data": {
      "text/plain": [
       "['@derekhawkins\\n',\n",
       " '@sverik\\n',\n",
       " '@ryanbutz\\n',\n",
       " '@example\\n',\n",
       " '@potus44\\n',\n",
       " '@ripalp\\n',\n",
       " '@darthvader\\n']"
      ]
     },
     "execution_count": 67,
     "metadata": {},
     "output_type": "execute_result"
    }
   ],
   "source": [
    "re.findall(r'''\n",
    "    (?P<Twitter>@[-.\\w\\d]+\\n) #Twitter handle\n",
    "''', data, re.X|re.I)"
   ]
  },
  {
   "cell_type": "code",
   "execution_count": null,
   "metadata": {},
   "outputs": [],
   "source": [
    "twitter = re.compile(r'''\n",
    "    (?P<Derek> )\n",
    "\n",
    "''')"
   ]
  },
  {
   "cell_type": "code",
   "execution_count": 76,
   "metadata": {},
   "outputs": [
    {
     "data": {
      "text/plain": [
       "['Hawkins, Derek',\n",
       " 'Teacher, Coding',\n",
       " 'Milliken, Connor',\n",
       " 'Teacher, Coding',\n",
       " 'Johnson, Joe',\n",
       " 'Carter, Joel',\n",
       " 'Österberg, Sven',\n",
       " 'Governor, Norrbotten',\n",
       " 'Enchanter, Killer',\n",
       " 'Butz, Ryan',\n",
       " 'CEO, Coding',\n",
       " 'Doctor, The',\n",
       " 'Lord, Gallifrey',\n",
       " 'Exampleson, Example',\n",
       " 'Example, Example',\n",
       " 'Obama, Barack',\n",
       " 'President, United',\n",
       " 'Patel, Ripal',\n",
       " 'Teacher, Coding',\n",
       " 'Vader, Darth',\n",
       " 'Lord, Galactic',\n",
       " 'Sanz, María',\n",
       " 'Minister, Spanish']"
      ]
     },
     "execution_count": 76,
     "metadata": {},
     "output_type": "execute_result"
    }
   ],
   "source": [
    "re.findall(r'''\n",
    "    (?P<Full_Name>[\\w]+,\\s[\\w]+)   \n",
    "''', data, re.X|re.I)"
   ]
  },
  {
   "cell_type": "code",
   "execution_count": 74,
   "metadata": {},
   "outputs": [
    {
     "data": {
      "text/plain": [
       "[]"
      ]
     },
     "execution_count": 74,
     "metadata": {},
     "output_type": "execute_result"
    }
   ],
   "source": [
    "re.findall(r'''\n",
    "    (?P<Derek>[\\w]+der)\n",
    "''', data)"
   ]
  },
  {
   "cell_type": "code",
   "execution_count": 49,
   "metadata": {
    "scrolled": true
   },
   "outputs": [
    {
     "data": {
      "text/plain": [
       "['Hawkins, Derek',\n",
       " 'Teacher, Coding',\n",
       " 'Milliken, Connor',\n",
       " 'Teacher, Coding',\n",
       " 'Johnson, Joe',\n",
       " 'Carter, Joel',\n",
       " 'Österberg, Sven',\n",
       " 'Governor, Norrbotten',\n",
       " 'Enchanter, Killer',\n",
       " 'Butz, Ryan',\n",
       " 'CEO, Coding',\n",
       " 'Doctor, The',\n",
       " 'Lord, Gallifrey',\n",
       " 'Exampleson, Example',\n",
       " 'Example, Example',\n",
       " 'Obama, Barack',\n",
       " 'President, United',\n",
       " 'Patel, Ripal',\n",
       " 'Teacher, Coding',\n",
       " 'Vader, Darth',\n",
       " 'Lord, Galactic',\n",
       " 'Sanz, María',\n",
       " 'Minister, Spanish']"
      ]
     },
     "execution_count": 49,
     "metadata": {},
     "output_type": "execute_result"
    }
   ],
   "source": [
    "re.findall(r'''\n",
    "    (?P<name>[\\w]+,\\s[\\w]+)   \n",
    "''', data, re.X|re.I)"
   ]
  },
  {
   "cell_type": "code",
   "execution_count": 78,
   "metadata": {},
   "outputs": [],
   "source": [
    "info = re.compile(r'''\n",
    "    (?P<name>[\\w]+,\\s[\\w]+)\n",
    "    (?P<email>\\s:\\s[\\w\\d.!#$%&\\'*+-/=?^_{\\}~]+@[-.\\w\\d]+'])\n",
    "    (?P<phone>\\s:\\s\\(?\\d{3}\\)?-?\\s?\\d{3}-\\d{4})\n",
    "    (?P<twitter>@[-.\\w\\d]+\\n)\n",
    "''', re.X|re.I)"
   ]
  },
  {
   "cell_type": "code",
   "execution_count": 80,
   "metadata": {},
   "outputs": [],
   "source": [
    "for i in info.finditer(data):\n",
    "    print(f\"Name: {i.group('name')}\\nEmail: {i.group('email')[3:]}\\nPhone: {i.group('phone')[3:]}\\nTwitter: {i.group('twitter')}\")"
   ]
  }
 ],
 "metadata": {
  "kernelspec": {
   "display_name": "Python 3",
   "language": "python",
   "name": "python3"
  },
  "language_info": {
   "codemirror_mode": {
    "name": "ipython",
    "version": 3
   },
   "file_extension": ".py",
   "mimetype": "text/x-python",
   "name": "python",
   "nbconvert_exporter": "python",
   "pygments_lexer": "ipython3",
   "version": "3.7.6"
  }
 },
 "nbformat": 4,
 "nbformat_minor": 2
}
